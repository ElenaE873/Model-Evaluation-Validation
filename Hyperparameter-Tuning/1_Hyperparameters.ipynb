{
 "cells": [
  {
   "cell_type": "markdown",
   "id": "79d5f437",
   "metadata": {},
   "source": [
    "Elements of models that cannot be learned by fitting the model.  \n",
    "\n",
    "Common Examples:\n",
    "- Alpha in Ridge/Lasso Regression\n",
    "- n_neighbors in k-NN\n",
    "- a and b in Linear Regression"
   ]
  },
  {
   "cell_type": "markdown",
   "id": "781052b9",
   "metadata": {},
   "source": [
    "#### Parameters"
   ]
  },
  {
   "cell_type": "markdown",
   "id": "838a5943",
   "metadata": {},
   "source": [
    "- Learned from data, include split-point in node, split-features, etc."
   ]
  },
  {
   "cell_type": "markdown",
   "id": "dd82ad69",
   "metadata": {},
   "source": [
    "#### Hyperparameters"
   ]
  },
  {
   "cell_type": "markdown",
   "id": "709d629a",
   "metadata": {},
   "source": [
    "- Not learned from data, set prior to training, include max_depth, min_sample_leaf, splitting criterion, etc."
   ]
  },
  {
   "cell_type": "markdown",
   "id": "4fe5e67c",
   "metadata": {},
   "source": [
    "Hyperparameter Tuning\n",
    "- trying and experimenting with hyperparameter values and choosing the ones that perform the best"
   ]
  },
  {
   "cell_type": "markdown",
   "id": "60c7bf88",
   "metadata": {},
   "source": [
    "Even with hyperparameter tuning, it's wise to use cross-validation to ensure the model doesn't overfit."
   ]
  },
  {
   "cell_type": "markdown",
   "id": "76c17774",
   "metadata": {},
   "source": [
    "### Grid Search Cross-Validation"
   ]
  },
  {
   "cell_type": "code",
   "execution_count": null,
   "id": "fea0e88f",
   "metadata": {},
   "outputs": [],
   "source": [
    "from sklearn.model_selection import GridSearchCV\n",
    "\n",
    "#specify the hyperparameter\n",
    "param_grid = {'n_neighbors' : np.arange(1, 50)}\n",
    "\n",
    "#instantiate classifier (this scenario KNN)\n",
    "knn = KNeighborsClassifier()\n",
    "\n",
    "#use gridsearchcv and param_grid defined above\n",
    "knn_cv = GridSearchCV(knn, param_grid, cv=5)\n",
    "\n",
    "#performing the fit for the searchgrid in place\n",
    "knn_cv.fit(X, y)"
   ]
  },
  {
   "cell_type": "markdown",
   "id": "e08abfff",
   "metadata": {},
   "source": [
    "#### Retrieve the hyperparameters that performed the best"
   ]
  },
  {
   "cell_type": "markdown",
   "id": "09852bcb",
   "metadata": {},
   "source": [
    "The optimal hyperparameters are those of the model achieving the best CV score."
   ]
  },
  {
   "cell_type": "code",
   "execution_count": null,
   "id": "bfe3f516",
   "metadata": {},
   "outputs": [],
   "source": [
    "knn_cv.best_params_"
   ]
  },
  {
   "cell_type": "code",
   "execution_count": null,
   "id": "1dea5f9c",
   "metadata": {},
   "outputs": [],
   "source": [
    "knn_cv.best_score_"
   ]
  },
  {
   "cell_type": "markdown",
   "id": "e6193818",
   "metadata": {},
   "source": [
    "#### RandomizedCV Example"
   ]
  },
  {
   "cell_type": "code",
   "execution_count": null,
   "id": "bc0e5f25",
   "metadata": {},
   "outputs": [],
   "source": [
    "from scipy.stats import randint\n",
    "from sklearn.tree import DecisionTreeClassifier\n",
    "from sklearn.model_selection import RandomizedSearchCV\n",
    "\n",
    "#parameters and distributions\n",
    "param_dist = {\"max_depth\": [3, None],\n",
    "              \"max_features\": randint(1, 9),\n",
    "              \"min_samples_leaf\": randint(1, 9),\n",
    "              \"criterion\": [\"gini\", \"entropy\"]}\n",
    "\n",
    "\n",
    "tree = DecisionTreeClassifier()\n",
    "tree_cv = RandomizedSearchCV(tree, param_dist, cv=5)\n",
    "tree_cv.fit(X, y)\n",
    "\n",
    "\n",
    "print(\"Tuned Decision Tree Parameters: {}\".format(tree_cv.best_params_))\n",
    "print(\"Best score is {}\".format(tree_cv.best_score_))"
   ]
  },
  {
   "cell_type": "markdown",
   "id": "4821d4d3",
   "metadata": {},
   "source": [
    "#### Another example with GridSearchCV"
   ]
  },
  {
   "cell_type": "code",
   "execution_count": null,
   "id": "e5c9c5ce",
   "metadata": {},
   "outputs": [],
   "source": [
    "from sklearn.model_selection import GridSearchCV\n",
    "from sklearn.metrics import roc_auc_score\n",
    "\n",
    "params_dt = {\n",
    "    'max_depth':[3,4,5,6],\n",
    "    'min_samples_leaf':[0.04,0.06,0.08],\n",
    "    'max_features':[0.2,0.4,0.6,0.8]\n",
    "}\n",
    "\n",
    "grid_dt = GridSearchCV(estimator=dt,\n",
    "                      param_grid = params_dt,\n",
    "                      scoring='accuracy',\n",
    "                      cv=10,\n",
    "                      n_jobs=1)\n",
    "\n",
    "grid_dt.fit(X_train, y_train)\n",
    "\n",
    "#extracting best parameters from grid_dt after training\n",
    "best_hyperparams = grid_dt.best_params_\n",
    "print('Best hyperparameters:\\n', best_hyperparams)\n",
    "\n",
    "#extract best CV score from 'grid_dt'\n",
    "best_CV_score = grid_dt.best_score_\n",
    "print('Best CV accuracy'.format(best_CV_score))\n",
    "\n",
    "#extract best model from grid_dt\n",
    "best_model = grid_dt.best_estimator_\n",
    "\n",
    "#evaluate test set accuracy\n",
    "test_acc = best_model.score(X_test, y_test)\n",
    "print(\"Test set accuracy of best model: {:.3f}\".format(test_acc))"
   ]
  },
  {
   "cell_type": "markdown",
   "id": "1feb6b52",
   "metadata": {},
   "source": [
    "### Inspecting Random Forest Hyperparameters"
   ]
  },
  {
   "cell_type": "code",
   "execution_count": null,
   "id": "8eeb34a2",
   "metadata": {},
   "outputs": [],
   "source": [
    "from sklearn.ensemble import RandomForestRegressor\n",
    "\n",
    "SEED=1\n",
    "rf = RandomForestRegressor(random_state=SEED)\n",
    "\n",
    "#inspecting rf's hyperparameters\n",
    "rf.get_params()\n",
    "\n",
    "\n",
    "from sklearn.metrics import mean_squared_error as MSE\n",
    "from sklearn.model_selection import GridSearchCV\n",
    "\n",
    "#dictionary of parameters\n",
    "params_rf = {\n",
    "    'n_estimators': [300,400,500],\n",
    "    'max_depth':[4,5,6],\n",
    "    'min_samples_leaf':[0.1,0.2],\n",
    "    'max_features':['log2','sqrt']\n",
    "}\n",
    "\n",
    "#instantiate GriSearchCV object\n",
    "grid_rf = GridSearchCV(estimator=rf,\n",
    "                      param_grid=params_rf,\n",
    "                      cv=3,\n",
    "                      scoring='neg_mean_squared_error',\n",
    "                      verbose=1,\n",
    "                      n_jobs=-1)\n",
    "\n",
    "grid_rf.fit(X_train, y_train)\n",
    "\n",
    "best_hyperparams = grid_rf.best_params_\n",
    "print('Best hyperparameters:\\n', best_hyperparams)\n",
    "\n",
    "best_model = grid_rf.best_estimator_\n",
    "\n",
    "y_pred = best_model.predict(X_test)\n",
    "\n",
    "rmse_test = MSE(y_test, y_pred)**(1/2)\n",
    "print('Test set RMSE of rf: {:.2f}'.format(rmse_test))"
   ]
  }
 ],
 "metadata": {
  "kernelspec": {
   "display_name": "Python 3 (ipykernel)",
   "language": "python",
   "name": "python3"
  },
  "language_info": {
   "codemirror_mode": {
    "name": "ipython",
    "version": 3
   },
   "file_extension": ".py",
   "mimetype": "text/x-python",
   "name": "python",
   "nbconvert_exporter": "python",
   "pygments_lexer": "ipython3",
   "version": "3.9.7"
  }
 },
 "nbformat": 4,
 "nbformat_minor": 5
}
