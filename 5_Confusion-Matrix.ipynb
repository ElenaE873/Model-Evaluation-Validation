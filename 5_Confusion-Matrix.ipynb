{
 "cells": [
  {
   "cell_type": "markdown",
   "id": "3485b926",
   "metadata": {},
   "source": [
    "#### Accuracy"
   ]
  },
  {
   "cell_type": "markdown",
   "id": "960c1dca",
   "metadata": {},
   "source": [
    "(tp + tn) / (tp + tn + fp + fn)"
   ]
  },
  {
   "cell_type": "markdown",
   "id": "457594dd",
   "metadata": {},
   "source": [
    "#### Precision"
   ]
  },
  {
   "cell_type": "markdown",
   "id": "5e902c9c",
   "metadata": {},
   "source": [
    "tp / (tp + **fp**) <<-- focuses on the *false postivies*"
   ]
  },
  {
   "cell_type": "markdown",
   "id": "5f6cba89",
   "metadata": {},
   "source": [
    "- **high precision** - not many right prediction labeled incorrectly"
   ]
  },
  {
   "cell_type": "markdown",
   "id": "7be29aa5",
   "metadata": {},
   "source": [
    "#### Recall"
   ]
  },
  {
   "cell_type": "markdown",
   "id": "919d4ef9",
   "metadata": {},
   "source": [
    "tp / (tp + **tn**) <<--focuses on the *true negatives*"
   ]
  },
  {
   "cell_type": "markdown",
   "id": "0d1d48a3",
   "metadata": {},
   "source": [
    "- **high recall** - predicted most right labels correctly"
   ]
  },
  {
   "cell_type": "markdown",
   "id": "b843a09d",
   "metadata": {},
   "source": [
    "#### F1 Score"
   ]
  },
  {
   "cell_type": "markdown",
   "id": "046d0427",
   "metadata": {},
   "source": [
    "2 * ( (precision*recall)/(precision+recall) )"
   ]
  },
  {
   "cell_type": "markdown",
   "id": "9ccf5467",
   "metadata": {},
   "source": [
    "#### Computing the Confusion Matrix"
   ]
  },
  {
   "cell_type": "code",
   "execution_count": null,
   "id": "76a25bc1",
   "metadata": {},
   "outputs": [],
   "source": [
    "print(confusion_matrix(y_test, y_pred))"
   ]
  },
  {
   "cell_type": "markdown",
   "id": "8e460b00",
   "metadata": {},
   "source": [
    "#### Classification Report\n",
    "- Precision\n",
    "- Recall\n",
    "- F1-Score\n",
    "- Support"
   ]
  },
  {
   "cell_type": "code",
   "execution_count": null,
   "id": "016cec02",
   "metadata": {},
   "outputs": [],
   "source": [
    "print(classification_report(y_test, y_pred))"
   ]
  }
 ],
 "metadata": {
  "kernelspec": {
   "display_name": "Python 3 (ipykernel)",
   "language": "python",
   "name": "python3"
  },
  "language_info": {
   "codemirror_mode": {
    "name": "ipython",
    "version": 3
   },
   "file_extension": ".py",
   "mimetype": "text/x-python",
   "name": "python",
   "nbconvert_exporter": "python",
   "pygments_lexer": "ipython3",
   "version": "3.9.7"
  }
 },
 "nbformat": 4,
 "nbformat_minor": 5
}
