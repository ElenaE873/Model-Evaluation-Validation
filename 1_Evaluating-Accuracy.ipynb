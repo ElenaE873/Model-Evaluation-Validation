{
 "cells": [
  {
   "cell_type": "markdown",
   "id": "46043ea8",
   "metadata": {},
   "source": [
    "### Accuracy"
   ]
  },
  {
   "cell_type": "markdown",
   "id": "1aff8bc0",
   "metadata": {},
   "source": [
    "- Accuracy = Fraction of Correct Predictions\n",
    "- aka. **how well the model performs on new data** (samples the algorithm has not seen yet)\n",
    "- THIS IS NOT an indication of the algorithm's ability to generalize"
   ]
  },
  {
   "cell_type": "markdown",
   "id": "96616e30",
   "metadata": {},
   "source": [
    "To accomplish and test accuracy:"
   ]
  },
  {
   "cell_type": "markdown",
   "id": "8012b11f",
   "metadata": {},
   "source": [
    "#### Step 1 - Test / Train Split"
   ]
  },
  {
   "cell_type": "code",
   "execution_count": null,
   "id": "bc8a68f8",
   "metadata": {},
   "outputs": [],
   "source": [
    "from sklearn.model_selection import train_test_split\n",
    "\n",
    "X_train, X_test, y_train, y_test = train_test_split(X, y, \n",
    "                                                    test_size=0.3,\n",
    "                                                    #proportion of data used for TEST split\n",
    "                                                    #this is often called a hold-out\n",
    "                                                   random_state = 21,\n",
    "                                                    #creating a random_state will allow for \n",
    "                                                    #reproducibility\n",
    "                                                   stratify=y)\n",
    "#Stratify by y:  you want the dataset to be distributed by target labels fairly"
   ]
  },
  {
   "cell_type": "markdown",
   "id": "a0b6a65a",
   "metadata": {},
   "source": [
    "#### Step 2 - Modeling"
   ]
  },
  {
   "cell_type": "code",
   "execution_count": null,
   "id": "3e28d579",
   "metadata": {},
   "outputs": [],
   "source": [
    "#instantiating the model (in this case the KNN classifier)\n",
    "knn = KNeighborsClassifier(n_neighbors=8)\n",
    "\n",
    "#fit the model to the training split subset\n",
    "#fitting with both features and target labels\n",
    "knn.fit(X_train, y_train)\n",
    "\n",
    "#predicting on the test split subset using only features\n",
    "#using the test labels later to test accuracy\n",
    "y_pred = knn.predict(X_test)"
   ]
  },
  {
   "cell_type": "markdown",
   "id": "87fb59db",
   "metadata": {},
   "source": [
    "### Step 3 - Score Comparison"
   ]
  },
  {
   "cell_type": "code",
   "execution_count": null,
   "id": "e1997c45",
   "metadata": {},
   "outputs": [],
   "source": [
    "knn.score(X_test, y_test)"
   ]
  }
 ],
 "metadata": {
  "kernelspec": {
   "display_name": "Python 3 (ipykernel)",
   "language": "python",
   "name": "python3"
  },
  "language_info": {
   "codemirror_mode": {
    "name": "ipython",
    "version": 3
   },
   "file_extension": ".py",
   "mimetype": "text/x-python",
   "name": "python",
   "nbconvert_exporter": "python",
   "pygments_lexer": "ipython3",
   "version": "3.9.7"
  }
 },
 "nbformat": 4,
 "nbformat_minor": 5
}
