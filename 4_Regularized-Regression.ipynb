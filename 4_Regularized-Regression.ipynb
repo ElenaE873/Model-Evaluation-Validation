{
 "cells": [
  {
   "cell_type": "markdown",
   "id": "65efad5e",
   "metadata": {},
   "source": [
    "#### Couple of things to remember:"
   ]
  },
  {
   "cell_type": "markdown",
   "id": "be34f782",
   "metadata": {},
   "source": [
    "- Linear regression minimizes a loss function: this means it chooses a coefficient for each feature variable\n",
    "    - LARGE coefficients can lead to overfitting\n",
    "- Regularizatoin accounts for dealing with large coefficients"
   ]
  },
  {
   "cell_type": "markdown",
   "id": "7d060c39",
   "metadata": {},
   "source": [
    "### Alpha"
   ]
  },
  {
   "cell_type": "markdown",
   "id": "811bdf5c",
   "metadata": {},
   "source": [
    "- Alpha = 0, we get back OLS --> can lead to Overfitting\n",
    "- Very high alpha --> can lead to Underfitting"
   ]
  },
  {
   "cell_type": "markdown",
   "id": "7539efa3",
   "metadata": {},
   "source": [
    "### Ridge Regularization"
   ]
  },
  {
   "cell_type": "code",
   "execution_count": null,
   "id": "a46f4c51",
   "metadata": {},
   "outputs": [],
   "source": [
    "from sklearn.linear_model import Ridge\n",
    "from sklearn.model_selection import train_test_split\n",
    "\n",
    "X_train, X_test, y_train, y_test = train_test_split(X, y, \n",
    "                                                    test_size=0.3,\n",
    "                                                   random_state = 42)\n",
    "\n",
    "ridge = Ridge(alpha=0.1, normalize=True)\n",
    "\n",
    "ridge.fit(X_train, y_train)\n",
    "ridge_pred = ridge.predict(X_test)\n",
    "ridge.score(X_test, y_test)"
   ]
  },
  {
   "cell_type": "markdown",
   "id": "34139e1b",
   "metadata": {},
   "source": [
    "### Lasso Regression"
   ]
  },
  {
   "cell_type": "code",
   "execution_count": null,
   "id": "d5ec5d46",
   "metadata": {},
   "outputs": [],
   "source": [
    "from sklearn.linear_model import Lasso\n",
    "\n",
    "X_train, X_test, y_train, y_test = train_test_split(X, y, \n",
    "                                                    test_size=0.3,\n",
    "                                                   random_state = 42)\n",
    "\n",
    "lasso = Lasso(alpha=0.1, normalize=True)\n",
    "\n",
    "lasso.fit(X_train, y_train)\n",
    "lasso_pred = lasso.predict(X_test)\n",
    "lasso.score(X_test, y_test)"
   ]
  }
 ],
 "metadata": {
  "kernelspec": {
   "display_name": "Python 3 (ipykernel)",
   "language": "python",
   "name": "python3"
  },
  "language_info": {
   "codemirror_mode": {
    "name": "ipython",
    "version": 3
   },
   "file_extension": ".py",
   "mimetype": "text/x-python",
   "name": "python",
   "nbconvert_exporter": "python",
   "pygments_lexer": "ipython3",
   "version": "3.9.7"
  }
 },
 "nbformat": 4,
 "nbformat_minor": 5
}
